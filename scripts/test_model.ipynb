{
 "cells": [
  {
   "metadata": {
    "ExecuteTime": {
     "end_time": "2025-01-25T12:41:33.232055Z",
     "start_time": "2025-01-25T12:41:33.228457Z"
    }
   },
   "cell_type": "code",
   "source": [
    "task = \"automatic-speech-recognition\"\n",
    "language = \"zh\"\n",
    "\n",
    "model_name = \"openai/whisper-base\"\n",
    "model_dir = \"../models/\"\n",
    "\n",
    "dataset_name = \"mozilla-foundation/common_voice_17_0\"\n",
    "dataset_dir = \"../data\""
   ],
   "id": "3fa4c04f00850928",
   "outputs": [],
   "execution_count": 2
  },
  {
   "metadata": {
    "ExecuteTime": {
     "end_time": "2025-01-25T12:41:34.496507Z",
     "start_time": "2025-01-25T12:41:34.484851Z"
    }
   },
   "cell_type": "code",
   "source": [
    "from datasets import load_dataset\n",
    "from transformers import WhisperForConditionalGeneration\n",
    "\n",
    "model = WhisperForConditionalGeneration.from_pretrained(model_name, cache_dir=\"../model/\")\n",
    "cv_zh_train = load_dataset(dataset_name, \"zh-CN\", split=\"train\", streaming=True, cache_dir=dataset_dir)"
   ],
   "id": "initial_id",
   "outputs": [
    {
     "ename": "ModuleNotFoundError",
     "evalue": "No module named 'datasets'",
     "output_type": "error",
     "traceback": [
      "\u001B[0;31m---------------------------------------------------------------------------\u001B[0m",
      "\u001B[0;31mModuleNotFoundError\u001B[0m                       Traceback (most recent call last)",
      "Cell \u001B[0;32mIn[3], line 1\u001B[0m\n\u001B[0;32m----> 1\u001B[0m \u001B[38;5;28;01mfrom\u001B[39;00m \u001B[38;5;21;01mdatasets\u001B[39;00m \u001B[38;5;28;01mimport\u001B[39;00m load_dataset\n\u001B[1;32m      2\u001B[0m \u001B[38;5;28;01mfrom\u001B[39;00m \u001B[38;5;21;01mtransformers\u001B[39;00m \u001B[38;5;28;01mimport\u001B[39;00m WhisperForConditionalGeneration\n\u001B[1;32m      4\u001B[0m model \u001B[38;5;241m=\u001B[39m WhisperForConditionalGeneration\u001B[38;5;241m.\u001B[39mfrom_pretrained(model_name, cache_dir\u001B[38;5;241m=\u001B[39m\u001B[38;5;124m\"\u001B[39m\u001B[38;5;124m../model/\u001B[39m\u001B[38;5;124m\"\u001B[39m)\n",
      "\u001B[0;31mModuleNotFoundError\u001B[0m: No module named 'datasets'"
     ]
    }
   ],
   "execution_count": 3
  },
  {
   "metadata": {
    "ExecuteTime": {
     "end_time": "2025-01-25T02:15:57.242653Z",
     "start_time": "2025-01-25T02:15:57.222089Z"
    }
   },
   "cell_type": "code",
   "source": [
    "from datasets import Audio\n",
    "\n",
    "cv_zh_train = cv_zh_train.cast_column(\"audio\", Audio(sampling_rate=16_000))"
   ],
   "id": "1eccccdebffa52b9",
   "outputs": [],
   "execution_count": 3
  },
  {
   "metadata": {
    "ExecuteTime": {
     "end_time": "2025-01-25T02:16:07.195958Z",
     "start_time": "2025-01-25T02:15:57.250191Z"
    }
   },
   "cell_type": "code",
   "source": "sample = next(iter(cv_zh_train))",
   "id": "76ccabfa8cc0d65",
   "outputs": [
    {
     "name": "stderr",
     "output_type": "stream",
     "text": [
      "Reading metadata...: 29406it [00:02, 11835.90it/s]\n"
     ]
    }
   ],
   "execution_count": 4
  },
  {
   "metadata": {
    "ExecuteTime": {
     "end_time": "2025-01-25T02:16:07.209884Z",
     "start_time": "2025-01-25T02:16:07.198515Z"
    }
   },
   "cell_type": "code",
   "source": "sample",
   "id": "4bd28d9556e2e9e0",
   "outputs": [
    {
     "data": {
      "text/plain": [
       "{'client_id': 'fa2b87636bc8f776d7f8e1c4fcf51892f5f5cb7556e489f2fa81d91728cac50d5525856f59cc5a7d68fc0cf7265ad89af0f7aa97d3662b3c7586197ea5f92fd8',\n",
       " 'path': 'zh-CN_train_0/common_voice_zh-CN_19428636.mp3',\n",
       " 'audio': {'path': 'zh-CN_train_0/common_voice_zh-CN_19428636.mp3',\n",
       "  'array': array([ 3.10862447e-14, -1.06581410e-14, -1.59872116e-14, ...,\n",
       "          9.38428229e-07,  2.90993967e-07, -5.94695848e-07]),\n",
       "  'sampling_rate': 16000},\n",
       " 'sentence': '沃内贝尔格是德国巴伐利亚州的一个市镇。',\n",
       " 'up_votes': 2,\n",
       " 'down_votes': 0,\n",
       " 'age': 'thirties',\n",
       " 'gender': 'male_masculine',\n",
       " 'accent': '出生地：23 黑龙江省',\n",
       " 'locale': 'zh-CN',\n",
       " 'segment': '',\n",
       " 'variant': ''}"
      ]
     },
     "execution_count": 5,
     "metadata": {},
     "output_type": "execute_result"
    }
   ],
   "execution_count": 5
  },
  {
   "metadata": {
    "ExecuteTime": {
     "end_time": "2025-01-25T02:16:07.221649Z",
     "start_time": "2025-01-25T02:16:07.215131Z"
    }
   },
   "cell_type": "code",
   "source": [
    "from transformers.models.whisper.tokenization_whisper import TO_LANGUAGE_CODE\n",
    "\n",
    "chinese_code = TO_LANGUAGE_CODE[\"chinese\"]\n",
    "japanese_code = TO_LANGUAGE_CODE[\"japanese\"]\n",
    "french_code = TO_LANGUAGE_CODE[\"french\"]"
   ],
   "id": "469b95a8a2325461",
   "outputs": [],
   "execution_count": 6
  },
  {
   "metadata": {
    "ExecuteTime": {
     "end_time": "2025-01-25T02:16:08.061394Z",
     "start_time": "2025-01-25T02:16:07.228717Z"
    }
   },
   "cell_type": "code",
   "source": [
    "from transformers import WhisperProcessor\n",
    "\n",
    "processor = WhisperProcessor.from_pretrained(model_name, language='zh', task=\"transcribe\")"
   ],
   "id": "f0a7c970d27fa0c",
   "outputs": [
    {
     "name": "stderr",
     "output_type": "stream",
     "text": [
      "Special tokens have been added in the vocabulary, make sure the associated word embeddings are fine-tuned or trained.\n"
     ]
    }
   ],
   "execution_count": 7
  },
  {
   "metadata": {
    "ExecuteTime": {
     "end_time": "2025-01-25T02:16:08.070493Z",
     "start_time": "2025-01-25T02:16:08.063755Z"
    }
   },
   "cell_type": "code",
   "source": [
    "def prepare_dataset(sample):\n",
    "    audio = sample[\"audio\"]\n",
    "\n",
    "    sample = processor(\n",
    "        audio=audio[\"array\"],\n",
    "        sampling_rate=audio[\"sampling_rate\"],\n",
    "        text=sample[\"sentence\"],\n",
    "    )\n",
    "\n",
    "    # compute input length of audio sample in seconds\n",
    "    sample[\"input_length\"] = len(audio[\"array\"]) / audio[\"sampling_rate\"]\n",
    "\n",
    "    return sample"
   ],
   "id": "29876cac6b63018c",
   "outputs": [],
   "execution_count": 8
  },
  {
   "metadata": {
    "ExecuteTime": {
     "end_time": "2025-01-25T02:16:08.126079Z",
     "start_time": "2025-01-25T02:16:08.080744Z"
    }
   },
   "cell_type": "code",
   "source": "sample = prepare_dataset(sample.copy())",
   "id": "840b3c58b652f720",
   "outputs": [],
   "execution_count": 9
  },
  {
   "metadata": {
    "ExecuteTime": {
     "end_time": "2025-01-25T02:16:08.143277Z",
     "start_time": "2025-01-25T02:16:08.128496Z"
    }
   },
   "cell_type": "code",
   "source": "sample",
   "id": "9e24591041e4faaf",
   "outputs": [
    {
     "data": {
      "text/plain": [
       "{'input_features': array([[[-0.67743826, -0.67743826, -0.67743826, ..., -0.67743826,\n",
       "         -0.67743826, -0.67743826],\n",
       "        [-0.67743826, -0.67743826, -0.67743826, ..., -0.67743826,\n",
       "         -0.67743826, -0.67743826],\n",
       "        [-0.67743826, -0.67743826, -0.67743826, ..., -0.67743826,\n",
       "         -0.67743826, -0.67743826],\n",
       "        ...,\n",
       "        [-0.67743826, -0.67743826, -0.67743826, ..., -0.67743826,\n",
       "         -0.67743826, -0.67743826],\n",
       "        [-0.67743826, -0.67743826, -0.67743826, ..., -0.67743826,\n",
       "         -0.67743826, -0.67743826],\n",
       "        [-0.67743826, -0.67743826, -0.67743826, ..., -0.67743826,\n",
       "         -0.67743826, -0.67743826]]], dtype=float32), 'labels': [50258, 50260, 50359, 50363, 3308, 225, 34742, 18464, 251, 1530, 242, 30921, 1541, 35898, 16086, 38325, 7384, 238, 23700, 1369, 248, 46974, 1546, 20182, 27261, 12373, 229, 1543, 50257], 'input_length': 9.336}"
      ]
     },
     "execution_count": 10,
     "metadata": {},
     "output_type": "execute_result"
    }
   ],
   "execution_count": 10
  },
  {
   "metadata": {
    "ExecuteTime": {
     "end_time": "2025-01-25T02:16:13.934902Z",
     "start_time": "2025-01-25T02:16:08.146962Z"
    }
   },
   "cell_type": "code",
   "source": [
    "import torch\n",
    "\n",
    "# Turn np.array to torch.tensor\n",
    "input_features = sample['input_features']\n",
    "input_features_tensor = torch.tensor(input_features, dtype=torch.float32)\n",
    "\n",
    "with torch.no_grad():\n",
    "    prediction = model.generate(input_features=input_features_tensor)\n",
    "\n",
    "transcription = processor.decode(*prediction)"
   ],
   "id": "ac9f5bd3bfa93f6c",
   "outputs": [
    {
     "name": "stderr",
     "output_type": "stream",
     "text": [
      "Due to a bug fix in https://github.com/huggingface/transformers/pull/28687 transcription using a multilingual Whisper will default to language detection followed by transcription instead of translation to English.This might be a breaking change for your use case. If you want to instead always translate your audio to English, make sure to pass `language='en'`.\n"
     ]
    }
   ],
   "execution_count": 11
  },
  {
   "metadata": {
    "ExecuteTime": {
     "end_time": "2025-01-25T02:19:24.109132Z",
     "start_time": "2025-01-25T02:19:24.052271Z"
    }
   },
   "cell_type": "code",
   "source": "type(transcription)",
   "id": "20d7d42bb01683c8",
   "outputs": [
    {
     "data": {
      "text/plain": [
       "str"
      ]
     },
     "execution_count": 14,
     "metadata": {},
     "output_type": "execute_result"
    }
   ],
   "execution_count": 14
  },
  {
   "metadata": {
    "ExecuteTime": {
     "end_time": "2025-01-25T02:20:34.890590Z",
     "start_time": "2025-01-25T02:20:34.873943Z"
    }
   },
   "cell_type": "code",
   "source": [
    "import re\n",
    "\n",
    "def extract_chinese(text):\n",
    "    chinese_characters = re.findall(r'[\\u4e00-\\u9fff]+', text)\n",
    "    return ''.join(chinese_characters)\n",
    "\n",
    "transcription = extract_chinese(transcription)\n",
    "transcription"
   ],
   "id": "9a5a0a813cfa3f58",
   "outputs": [
    {
     "data": {
      "text/plain": [
       "'莫內辯格式德國巴哈利亞州的一個市政'"
      ]
     },
     "execution_count": 15,
     "metadata": {},
     "output_type": "execute_result"
    }
   ],
   "execution_count": 15
  },
  {
   "metadata": {
    "ExecuteTime": {
     "end_time": "2025-01-25T02:23:31.273306Z",
     "start_time": "2025-01-25T02:23:31.155194Z"
    }
   },
   "cell_type": "code",
   "source": [
    "import opencc\n",
    "converter = opencc.OpenCC('t2s.json')\n",
    "converter.convert(transcription) "
   ],
   "id": "3a623b4dd0ed34d1",
   "outputs": [
    {
     "data": {
      "text/plain": [
       "'莫内辩格式德国巴哈利亚州的一个市政'"
      ]
     },
     "execution_count": 16,
     "metadata": {},
     "output_type": "execute_result"
    }
   ],
   "execution_count": 16
  },
  {
   "metadata": {},
   "cell_type": "code",
   "outputs": [],
   "execution_count": null,
   "source": "",
   "id": "dea98278ed643122"
  }
 ],
 "metadata": {
  "kernelspec": {
   "display_name": "Python 3",
   "language": "python",
   "name": "python3"
  },
  "language_info": {
   "codemirror_mode": {
    "name": "ipython",
    "version": 2
   },
   "file_extension": ".py",
   "mimetype": "text/x-python",
   "name": "python",
   "nbconvert_exporter": "python",
   "pygments_lexer": "ipython2",
   "version": "2.7.6"
  }
 },
 "nbformat": 4,
 "nbformat_minor": 5
}
